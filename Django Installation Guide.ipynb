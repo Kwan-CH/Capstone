{
 "cells": [
  {
   "cell_type": "markdown",
   "id": "38dde958-ea66-4579-8824-328fff14d0e6",
   "metadata": {},
   "source": [
    "# 🚀 Django Setup Guide\n",
    "\n",
    "This notebook will help you:\n",
    "✅ Install Django  \n",
    "✅ Set up a virtual environment  \n",
    "✅ Start a Django project  \n",
    "✅ Run the Django server"
   ]
  },
  {
   "cell_type": "markdown",
   "id": "1d79dc53-5cb9-4105-8dbd-477d1c0915b0",
   "metadata": {},
   "source": [
    "### Step 1: Install Pip"
   ]
  },
  {
   "cell_type": "code",
   "execution_count": null,
   "id": "ad55e66c-98a9-4644-9ad6-3a3c754501c4",
   "metadata": {},
   "outputs": [],
   "source": [
    "!python -m ensurepip --upgrade"
   ]
  },
  {
   "cell_type": "markdown",
   "id": "89c381ec-d09d-423a-8085-a03c06bdf931",
   "metadata": {},
   "source": [
    "### Step 2: Check if Python is installed"
   ]
  },
  {
   "cell_type": "code",
   "execution_count": null,
   "id": "a14b7174-7348-4b2e-96cf-9ecfe949b60f",
   "metadata": {},
   "outputs": [],
   "source": [
    "!python --version"
   ]
  },
  {
   "cell_type": "markdown",
   "id": "e3c1668d-6013-4d01-bee7-deda0757239a",
   "metadata": {},
   "source": [
    "### If Python is not installed, follow the Instructions Below to Install Python"
   ]
  },
  {
   "cell_type": "markdown",
   "id": "cffe7c90-ee64-4470-bea2-5e5fd9f46bfb",
   "metadata": {},
   "source": [
    "Go to: https://www.python.org/downloads\n",
    "\n",
    "Make sure to check “Add Python to PATH” during installation."
   ]
  },
  {
   "cell_type": "markdown",
   "id": "0c70c8e8-4e4a-47d1-8e04-6077dd639034",
   "metadata": {},
   "source": [
    "Then, \n",
    "1. Launch **VS Code**\n",
    "2. Go to the **Extensions** tab (or press `Ctrl+Shift+X`)\n",
    "3. Search for **\"Python\"**\n",
    "4. Install the extension by **Microsoft**"
   ]
  },
  {
   "cell_type": "markdown",
   "id": "aa8452c0-5a38-4640-9095-36c32587923d",
   "metadata": {},
   "source": [
    "### Step 4: Open VS Code terminal and Activate the Virtual Environment\n",
    "Firstly, open the integrated terminal by going to View > Terminal. Then, use the following command in the terminal to activate the virtual environment\n",
    "\n",
    "myenv\\Scripts\\activate.bat"
   ]
  },
  {
   "cell_type": "markdown",
   "id": "4e6e2d05-322f-4d72-90a3-5c68e9dbbc80",
   "metadata": {},
   "source": [
    "### Step 5: Install Necessary Dependencies\n",
    "In the activated virtual environment, install all dependencies using pip:"
   ]
  },
  {
   "cell_type": "code",
   "execution_count": null,
   "id": "472cf0b4-4499-4b56-a1d1-8299e1f9e55c",
   "metadata": {},
   "outputs": [],
   "source": [
    "%pip install -r requirements.txt\n"
   ]
  },
  {
   "cell_type": "markdown",
   "id": "1cf1c76c-a9c2-40e0-9ab9-7c30dccdf222",
   "metadata": {},
   "source": [
    "### Step 6: Check if Django is Successfully Activated¶\n",
    "If Django is installed correctly, it will display the version number"
   ]
  },
  {
   "cell_type": "code",
   "execution_count": null,
   "id": "ba1522a5-8a5c-4e97-b504-dad2d1216da1",
   "metadata": {},
   "outputs": [],
   "source": [
    "!python -m django --version"
   ]
  },
  {
   "cell_type": "markdown",
   "id": "002cff8b-f4bf-40c2-869f-e6b5949fac8d",
   "metadata": {},
   "source": [
    "### Step 7: Navigate into the Project Folder & Run the Server"
   ]
  },
  {
   "cell_type": "code",
   "execution_count": null,
   "id": "48b8e150-b91a-4f02-a3e5-0525f13f2aaf",
   "metadata": {},
   "outputs": [],
   "source": [
    "import subprocess\n",
    "\n",
    "server = subprocess.Popen(\n",
    "    [\"python\", \"manage.py\", \"runserver\"],\n",
    "    cwd=\"CodeFile/e_waste\"\n",
    ")\n"
   ]
  },
  {
   "cell_type": "markdown",
   "id": "9908e9fc-1104-47d5-ac47-d6621e080fc4",
   "metadata": {},
   "source": [
    "### Step 8: Run this localhost IP in your browswer ( 127.0.0.1:8000 )"
   ]
  }
 ],
 "metadata": {
  "kernelspec": {
   "display_name": "Python (venv)",
   "language": "python",
   "name": "venv"
  },
  "language_info": {
   "codemirror_mode": {
    "name": "ipython",
    "version": 3
   },
   "file_extension": ".py",
   "mimetype": "text/x-python",
   "name": "python",
   "nbconvert_exporter": "python",
   "pygments_lexer": "ipython3",
   "version": "3.13.2"
  }
 },
 "nbformat": 4,
 "nbformat_minor": 5
}
